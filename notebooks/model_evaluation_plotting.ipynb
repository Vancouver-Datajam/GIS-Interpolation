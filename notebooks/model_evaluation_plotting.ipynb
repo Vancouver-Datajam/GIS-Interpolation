{
 "cells": [
  {
   "cell_type": "markdown",
   "id": "2c3e969d",
   "metadata": {},
   "source": [
    "### Model Evaluation and Plotting"
   ]
  },
  {
   "cell_type": "markdown",
   "id": "c2fbec71-1183-411e-a4f0-d44ae0bd78c9",
   "metadata": {},
   "source": [
    "**Import packages**"
   ]
  },
  {
   "cell_type": "code",
   "execution_count": 51,
   "id": "fd8299f1",
   "metadata": {},
   "outputs": [],
   "source": [
    "import pandas as pd\n",
    "from ftplib import FTP\n",
    "from io import BytesIO\n",
    "from pykrige.ok import OrdinaryKriging\n",
    "import numpy as np\n",
    "import plotly.graph_objects as go"
   ]
  },
  {
   "cell_type": "markdown",
   "id": "167629f1-dd37-4ad4-89cb-a165a7f9870f",
   "metadata": {},
   "source": [
    "**Load the data**"
   ]
  },
  {
   "cell_type": "code",
   "execution_count": 52,
   "id": "8ef58f30",
   "metadata": {},
   "outputs": [],
   "source": [
    "df_1 = pd.read_csv('../data/1961-1990.csv')"
   ]
  },
  {
   "cell_type": "code",
   "execution_count": 53,
   "id": "11ed50f2",
   "metadata": {},
   "outputs": [],
   "source": [
    "df_2 = pd.read_csv('../data/1991-2000.csv')"
   ]
  },
  {
   "cell_type": "code",
   "execution_count": 54,
   "id": "e6a45ac7",
   "metadata": {},
   "outputs": [],
   "source": [
    "df_3 = pd.read_csv('../data/2001-2010.csv')"
   ]
  },
  {
   "cell_type": "code",
   "execution_count": 55,
   "id": "63824cd6",
   "metadata": {},
   "outputs": [],
   "source": [
    "df_4 = pd.read_csv('../data/2011-2020.csv')"
   ]
  },
  {
   "cell_type": "markdown",
   "id": "9383ee83-1b7d-4b75-8e97-cb34d42fd149",
   "metadata": {},
   "source": [
    "We are just looking at average winter termperatures, so let's get a quick statistical summary for each dataset. "
   ]
  },
  {
   "cell_type": "code",
   "execution_count": 56,
   "id": "c860661f",
   "metadata": {},
   "outputs": [
    {
     "data": {
      "text/plain": [
       "count    189.000000\n",
       "mean      -8.039683\n",
       "std        5.686636\n",
       "min      -19.400000\n",
       "25%      -12.000000\n",
       "50%       -8.800000\n",
       "75%       -4.000000\n",
       "max        4.800000\n",
       "Name: Tave_wt, dtype: float64"
      ]
     },
     "execution_count": 56,
     "metadata": {},
     "output_type": "execute_result"
    }
   ],
   "source": [
    "df_1['Tave_wt'].describe()"
   ]
  },
  {
   "cell_type": "code",
   "execution_count": 57,
   "id": "ef4d8347",
   "metadata": {},
   "outputs": [
    {
     "data": {
      "text/plain": [
       "count    189.000000\n",
       "mean      -7.000529\n",
       "std        5.823599\n",
       "min      -19.100000\n",
       "25%      -10.900000\n",
       "50%       -8.100000\n",
       "75%       -2.400000\n",
       "max        5.600000\n",
       "Name: Tave_wt, dtype: float64"
      ]
     },
     "execution_count": 57,
     "metadata": {},
     "output_type": "execute_result"
    }
   ],
   "source": [
    "df_2['Tave_wt'].describe()"
   ]
  },
  {
   "cell_type": "code",
   "execution_count": 58,
   "id": "3674d4f3",
   "metadata": {},
   "outputs": [
    {
     "data": {
      "text/plain": [
       "count    189.000000\n",
       "mean      -6.158201\n",
       "std        5.536167\n",
       "min      -17.700000\n",
       "25%       -9.900000\n",
       "50%       -7.000000\n",
       "75%       -2.300000\n",
       "max        5.600000\n",
       "Name: Tave_wt, dtype: float64"
      ]
     },
     "execution_count": 58,
     "metadata": {},
     "output_type": "execute_result"
    }
   ],
   "source": [
    "df_3['Tave_wt'].describe()"
   ]
  },
  {
   "cell_type": "code",
   "execution_count": 59,
   "id": "bd99f0fb",
   "metadata": {},
   "outputs": [
    {
     "data": {
      "text/plain": [
       "count    189.000000\n",
       "mean      -5.886243\n",
       "std        5.325962\n",
       "min      -16.800000\n",
       "25%       -9.500000\n",
       "50%       -7.000000\n",
       "75%       -2.300000\n",
       "max        5.500000\n",
       "Name: Tave_wt, dtype: float64"
      ]
     },
     "execution_count": 59,
     "metadata": {},
     "output_type": "execute_result"
    }
   ],
   "source": [
    "df_4['Tave_wt'].describe()"
   ]
  },
  {
   "cell_type": "markdown",
   "id": "17f16503-3d58-4fbe-b010-8097efbc9249",
   "metadata": {},
   "source": [
    "**Let's take a look at some dummy Kriged data.**\n",
    "To do so, we need to install rasterio to read a raster file. "
   ]
  },
  {
   "cell_type": "code",
   "execution_count": null,
   "id": "216633a6",
   "metadata": {},
   "outputs": [],
   "source": [
    "pip install rasterio"
   ]
  },
  {
   "cell_type": "code",
   "execution_count": 61,
   "id": "b8171a59",
   "metadata": {},
   "outputs": [],
   "source": [
    "import rasterio\n",
    "\n",
    "# Load the .tiff file\n",
    "with rasterio.open('../data/2011-2020-idw.tif') as src:\n",
    "    kriged_values = src.read(1)\n"
   ]
  },
  {
   "cell_type": "code",
   "execution_count": 62,
   "id": "967362c7",
   "metadata": {},
   "outputs": [
    {
     "data": {
      "text/plain": [
       "array([[-9.9990000e+03, -9.9990000e+03, -9.9990000e+03, ...,\n",
       "        -9.9990000e+03, -9.9990000e+03, -9.9990000e+03],\n",
       "       [-9.9990000e+03, -9.9990000e+03, -9.9990000e+03, ...,\n",
       "        -9.9990000e+03, -9.9990000e+03, -9.9990000e+03],\n",
       "       [-9.9990000e+03, -2.5428038e+00, -3.5269425e+00, ...,\n",
       "        -9.9990000e+03, -9.9990000e+03, -9.9990000e+03],\n",
       "       ...,\n",
       "       [-9.9990000e+03, -9.9990000e+03, -9.9990000e+03, ...,\n",
       "        -9.9990000e+03, -9.9990000e+03, -9.9990000e+03],\n",
       "       [-9.9990000e+03, -9.9990000e+03, -9.9990000e+03, ...,\n",
       "        -9.9990000e+03, -9.9990000e+03, -9.9990000e+03],\n",
       "       [-9.9990000e+03, -9.9990000e+03, -9.9990000e+03, ...,\n",
       "        -9.9990000e+03, -9.9990000e+03, -9.9990000e+03]])"
      ]
     },
     "execution_count": 62,
     "metadata": {},
     "output_type": "execute_result"
    }
   ],
   "source": [
    "kriged_values"
   ]
  },
  {
   "cell_type": "code",
   "execution_count": 63,
   "id": "43b8aaaa",
   "metadata": {},
   "outputs": [
    {
     "data": {
      "text/plain": [
       "dtype('float64')"
      ]
     },
     "execution_count": 63,
     "metadata": {},
     "output_type": "execute_result"
    }
   ],
   "source": [
    "kriged_values.dtype"
   ]
  },
  {
   "cell_type": "code",
   "execution_count": 64,
   "id": "a50fbf24-a4d3-4487-ac71-b9ac5237c93d",
   "metadata": {},
   "outputs": [
    {
     "data": {
      "text/plain": [
       "(43, 89)"
      ]
     },
     "execution_count": 64,
     "metadata": {},
     "output_type": "execute_result"
    }
   ],
   "source": [
    "kriged_values.shape"
   ]
  },
  {
   "cell_type": "markdown",
   "id": "66617395-924c-4185-9b5a-3792d9fd209f",
   "metadata": {},
   "source": [
    "The Kriged values are in the form of an array containing interpolated temperature values."
   ]
  },
  {
   "cell_type": "markdown",
   "id": "077b79e9-15a3-46fa-8e25-1ebb70d1b040",
   "metadata": {},
   "source": [
    "### Read in train and test data sets"
   ]
  },
  {
   "cell_type": "code",
   "execution_count": 65,
   "id": "fbe01aa5-0f6b-42e7-8fad-3357f1c7917c",
   "metadata": {},
   "outputs": [],
   "source": [
    "y_train = pd.read_csv('../data/y_train.csv')\n",
    "X_train = pd.read_csv('../data/X_train.csv')\n",
    "y_test = pd.read_csv('../data/y_test.csv')\n",
    "X_test = pd.read_csv('../data/X_test.csv')\n",
    "\n",
    "X_train.columns = [\"Index\", \"Latitude\", \"Longitude\"]\n",
    "X_test.columns = [\"Index\", \"Latitude\", \"Longitude\"]\n",
    "y_train.columns = [\"Index\", \"Tave_wt\"]\n",
    "y_test.columns = [\"Index\", \"Tave_wt\"]"
   ]
  },
  {
   "cell_type": "code",
   "execution_count": 66,
   "id": "d2b80ec2-d432-40b0-a692-1823220cf183",
   "metadata": {},
   "outputs": [
    {
     "data": {
      "text/html": [
       "<div>\n",
       "<style scoped>\n",
       "    .dataframe tbody tr th:only-of-type {\n",
       "        vertical-align: middle;\n",
       "    }\n",
       "\n",
       "    .dataframe tbody tr th {\n",
       "        vertical-align: top;\n",
       "    }\n",
       "\n",
       "    .dataframe thead th {\n",
       "        text-align: right;\n",
       "    }\n",
       "</style>\n",
       "<table border=\"1\" class=\"dataframe\">\n",
       "  <thead>\n",
       "    <tr style=\"text-align: right;\">\n",
       "      <th></th>\n",
       "      <th>Index</th>\n",
       "      <th>Latitude</th>\n",
       "      <th>Longitude</th>\n",
       "    </tr>\n",
       "  </thead>\n",
       "  <tbody>\n",
       "    <tr>\n",
       "      <th>0</th>\n",
       "      <td>77</td>\n",
       "      <td>57.500000</td>\n",
       "      <td>-128.500000</td>\n",
       "    </tr>\n",
       "    <tr>\n",
       "      <th>1</th>\n",
       "      <td>26</td>\n",
       "      <td>56.016667</td>\n",
       "      <td>-120.616667</td>\n",
       "    </tr>\n",
       "    <tr>\n",
       "      <th>2</th>\n",
       "      <td>41</td>\n",
       "      <td>59.500000</td>\n",
       "      <td>-130.500000</td>\n",
       "    </tr>\n",
       "    <tr>\n",
       "      <th>3</th>\n",
       "      <td>4</td>\n",
       "      <td>58.400000</td>\n",
       "      <td>-134.700000</td>\n",
       "    </tr>\n",
       "    <tr>\n",
       "      <th>4</th>\n",
       "      <td>160</td>\n",
       "      <td>51.500000</td>\n",
       "      <td>-117.500000</td>\n",
       "    </tr>\n",
       "  </tbody>\n",
       "</table>\n",
       "</div>"
      ],
      "text/plain": [
       "   Index   Latitude   Longitude\n",
       "0     77  57.500000 -128.500000\n",
       "1     26  56.016667 -120.616667\n",
       "2     41  59.500000 -130.500000\n",
       "3      4  58.400000 -134.700000\n",
       "4    160  51.500000 -117.500000"
      ]
     },
     "execution_count": 66,
     "metadata": {},
     "output_type": "execute_result"
    }
   ],
   "source": [
    "X_test.head()"
   ]
  },
  {
   "cell_type": "code",
   "execution_count": 67,
   "id": "1c5ca912-2758-4c1a-9316-c05f9d299dc1",
   "metadata": {},
   "outputs": [
    {
     "data": {
      "text/html": [
       "<div>\n",
       "<style scoped>\n",
       "    .dataframe tbody tr th:only-of-type {\n",
       "        vertical-align: middle;\n",
       "    }\n",
       "\n",
       "    .dataframe tbody tr th {\n",
       "        vertical-align: top;\n",
       "    }\n",
       "\n",
       "    .dataframe thead th {\n",
       "        text-align: right;\n",
       "    }\n",
       "</style>\n",
       "<table border=\"1\" class=\"dataframe\">\n",
       "  <thead>\n",
       "    <tr style=\"text-align: right;\">\n",
       "      <th></th>\n",
       "      <th>Index</th>\n",
       "      <th>Latitude</th>\n",
       "      <th>Longitude</th>\n",
       "    </tr>\n",
       "  </thead>\n",
       "  <tbody>\n",
       "    <tr>\n",
       "      <th>0</th>\n",
       "      <td>142</td>\n",
       "      <td>52.5</td>\n",
       "      <td>-125.5</td>\n",
       "    </tr>\n",
       "    <tr>\n",
       "      <th>1</th>\n",
       "      <td>172</td>\n",
       "      <td>50.5</td>\n",
       "      <td>-117.5</td>\n",
       "    </tr>\n",
       "    <tr>\n",
       "      <th>2</th>\n",
       "      <td>145</td>\n",
       "      <td>52.5</td>\n",
       "      <td>-122.5</td>\n",
       "    </tr>\n",
       "    <tr>\n",
       "      <th>3</th>\n",
       "      <td>80</td>\n",
       "      <td>57.5</td>\n",
       "      <td>-125.5</td>\n",
       "    </tr>\n",
       "    <tr>\n",
       "      <th>4</th>\n",
       "      <td>147</td>\n",
       "      <td>52.5</td>\n",
       "      <td>-120.5</td>\n",
       "    </tr>\n",
       "  </tbody>\n",
       "</table>\n",
       "</div>"
      ],
      "text/plain": [
       "   Index  Latitude  Longitude\n",
       "0    142      52.5     -125.5\n",
       "1    172      50.5     -117.5\n",
       "2    145      52.5     -122.5\n",
       "3     80      57.5     -125.5\n",
       "4    147      52.5     -120.5"
      ]
     },
     "execution_count": 67,
     "metadata": {},
     "output_type": "execute_result"
    }
   ],
   "source": [
    "X_train.head()"
   ]
  },
  {
   "cell_type": "code",
   "execution_count": 68,
   "id": "b57f5501-a558-4dae-8318-439344191cab",
   "metadata": {},
   "outputs": [
    {
     "data": {
      "text/html": [
       "<div>\n",
       "<style scoped>\n",
       "    .dataframe tbody tr th:only-of-type {\n",
       "        vertical-align: middle;\n",
       "    }\n",
       "\n",
       "    .dataframe tbody tr th {\n",
       "        vertical-align: top;\n",
       "    }\n",
       "\n",
       "    .dataframe thead th {\n",
       "        text-align: right;\n",
       "    }\n",
       "</style>\n",
       "<table border=\"1\" class=\"dataframe\">\n",
       "  <thead>\n",
       "    <tr style=\"text-align: right;\">\n",
       "      <th></th>\n",
       "      <th>Index</th>\n",
       "      <th>Tave_wt</th>\n",
       "    </tr>\n",
       "  </thead>\n",
       "  <tbody>\n",
       "    <tr>\n",
       "      <th>0</th>\n",
       "      <td>77</td>\n",
       "      <td>-9.6</td>\n",
       "    </tr>\n",
       "    <tr>\n",
       "      <th>1</th>\n",
       "      <td>26</td>\n",
       "      <td>-10.4</td>\n",
       "    </tr>\n",
       "    <tr>\n",
       "      <th>2</th>\n",
       "      <td>41</td>\n",
       "      <td>-11.5</td>\n",
       "    </tr>\n",
       "    <tr>\n",
       "      <th>3</th>\n",
       "      <td>4</td>\n",
       "      <td>-2.7</td>\n",
       "    </tr>\n",
       "    <tr>\n",
       "      <th>4</th>\n",
       "      <td>160</td>\n",
       "      <td>-4.8</td>\n",
       "    </tr>\n",
       "  </tbody>\n",
       "</table>\n",
       "</div>"
      ],
      "text/plain": [
       "   Index  Tave_wt\n",
       "0     77     -9.6\n",
       "1     26    -10.4\n",
       "2     41    -11.5\n",
       "3      4     -2.7\n",
       "4    160     -4.8"
      ]
     },
     "execution_count": 68,
     "metadata": {},
     "output_type": "execute_result"
    }
   ],
   "source": [
    "y_test.head()"
   ]
  },
  {
   "cell_type": "code",
   "execution_count": 69,
   "id": "f9b841a1-cd58-45d8-9754-1dd4906ffc94",
   "metadata": {},
   "outputs": [
    {
     "data": {
      "text/html": [
       "<div>\n",
       "<style scoped>\n",
       "    .dataframe tbody tr th:only-of-type {\n",
       "        vertical-align: middle;\n",
       "    }\n",
       "\n",
       "    .dataframe tbody tr th {\n",
       "        vertical-align: top;\n",
       "    }\n",
       "\n",
       "    .dataframe thead th {\n",
       "        text-align: right;\n",
       "    }\n",
       "</style>\n",
       "<table border=\"1\" class=\"dataframe\">\n",
       "  <thead>\n",
       "    <tr style=\"text-align: right;\">\n",
       "      <th></th>\n",
       "      <th>Index</th>\n",
       "      <th>Tave_wt</th>\n",
       "    </tr>\n",
       "  </thead>\n",
       "  <tbody>\n",
       "    <tr>\n",
       "      <th>0</th>\n",
       "      <td>142</td>\n",
       "      <td>-7.1</td>\n",
       "    </tr>\n",
       "    <tr>\n",
       "      <th>1</th>\n",
       "      <td>172</td>\n",
       "      <td>-6.4</td>\n",
       "    </tr>\n",
       "    <tr>\n",
       "      <th>2</th>\n",
       "      <td>145</td>\n",
       "      <td>-6.1</td>\n",
       "    </tr>\n",
       "    <tr>\n",
       "      <th>3</th>\n",
       "      <td>80</td>\n",
       "      <td>-9.2</td>\n",
       "    </tr>\n",
       "    <tr>\n",
       "      <th>4</th>\n",
       "      <td>147</td>\n",
       "      <td>-8.0</td>\n",
       "    </tr>\n",
       "  </tbody>\n",
       "</table>\n",
       "</div>"
      ],
      "text/plain": [
       "   Index  Tave_wt\n",
       "0    142     -7.1\n",
       "1    172     -6.4\n",
       "2    145     -6.1\n",
       "3     80     -9.2\n",
       "4    147     -8.0"
      ]
     },
     "execution_count": 69,
     "metadata": {},
     "output_type": "execute_result"
    }
   ],
   "source": [
    "y_train.head()"
   ]
  },
  {
   "cell_type": "markdown",
   "id": "5bd4774a-44f4-4438-9b3f-f79db4f7ae84",
   "metadata": {},
   "source": [
    "**Next, we'll fit the Krigging model into the training data. But what are the best parameters?**\n",
    "\n",
    "We will conduct a grid search to identify the best parameters. "
   ]
  },
  {
   "cell_type": "code",
   "execution_count": null,
   "id": "740c94dc-0477-4de2-96ab-2a9f91fb2169",
   "metadata": {},
   "outputs": [],
   "source": [
    "pip install scikit-learn"
   ]
  },
  {
   "cell_type": "code",
   "execution_count": 71,
   "id": "1c9d7d50-15ab-49f1-8588-d4bda502006c",
   "metadata": {},
   "outputs": [],
   "source": [
    "from sklearn.model_selection import GridSearchCV\n",
    "\n",
    "from pykrige.rk import Krige"
   ]
  },
  {
   "cell_type": "code",
   "execution_count": 72,
   "id": "70d6e272-4353-40bd-9f17-1151b8395a95",
   "metadata": {},
   "outputs": [
    {
     "name": "stdout",
     "output_type": "stream",
     "text": [
      "Fitting 5 folds for each of 60 candidates, totalling 300 fits\n",
      "n_closest_points will be ignored for UniversalKriging\n",
      "n_closest_points will be ignored for UniversalKriging\n",
      "n_closest_points will be ignored for UniversalKriging\n",
      "n_closest_points will be ignored for UniversalKriging\n",
      "n_closest_points will be ignored for UniversalKriging\n",
      "n_closest_points will be ignored for UniversalKriging\n",
      "n_closest_points will be ignored for UniversalKriging\n",
      "n_closest_points will be ignored for UniversalKriging\n",
      "n_closest_points will be ignored for UniversalKriging\n",
      "n_closest_points will be ignored for UniversalKriging\n",
      "n_closest_points will be ignored for UniversalKriging\n",
      "n_closest_points will be ignored for UniversalKriging\n",
      "n_closest_points will be ignored for UniversalKriging\n",
      "n_closest_points will be ignored for UniversalKriging\n",
      "n_closest_points will be ignored for UniversalKriging\n",
      "n_closest_points will be ignored for UniversalKriging\n",
      "n_closest_points will be ignored for UniversalKriging\n",
      "n_closest_points will be ignored for UniversalKriging\n",
      "n_closest_points will be ignored for UniversalKriging\n",
      "n_closest_points will be ignored for UniversalKriging\n",
      "n_closest_points will be ignored for UniversalKriging\n",
      "n_closest_points will be ignored for UniversalKriging\n",
      "n_closest_points will be ignored for UniversalKriging\n",
      "n_closest_points will be ignored for UniversalKriging\n",
      "n_closest_points will be ignored for UniversalKriging\n",
      "n_closest_points will be ignored for UniversalKriging\n",
      "n_closest_points will be ignored for UniversalKriging\n",
      "n_closest_points will be ignored for UniversalKriging\n",
      "n_closest_points will be ignored for UniversalKriging\n",
      "n_closest_points will be ignored for UniversalKriging\n",
      "n_closest_points will be ignored for UniversalKriging\n",
      "n_closest_points will be ignored for UniversalKriging\n",
      "n_closest_points will be ignored for UniversalKriging\n",
      "n_closest_points will be ignored for UniversalKriging\n",
      "n_closest_points will be ignored for UniversalKriging\n",
      "n_closest_points will be ignored for UniversalKriging\n",
      "n_closest_points will be ignored for UniversalKriging\n",
      "n_closest_points will be ignored for UniversalKriging\n",
      "n_closest_points will be ignored for UniversalKriging\n",
      "n_closest_points will be ignored for UniversalKriging\n",
      "n_closest_points will be ignored for UniversalKriging\n",
      "n_closest_points will be ignored for UniversalKriging\n",
      "n_closest_points will be ignored for UniversalKriging\n",
      "n_closest_points will be ignored for UniversalKriging\n",
      "n_closest_points will be ignored for UniversalKriging\n",
      "n_closest_points will be ignored for UniversalKriging\n",
      "n_closest_points will be ignored for UniversalKriging\n",
      "n_closest_points will be ignored for UniversalKriging\n",
      "n_closest_points will be ignored for UniversalKriging\n",
      "n_closest_points will be ignored for UniversalKriging\n",
      "n_closest_points will be ignored for UniversalKriging\n",
      "n_closest_points will be ignored for UniversalKriging\n",
      "n_closest_points will be ignored for UniversalKriging\n",
      "n_closest_points will be ignored for UniversalKriging\n",
      "n_closest_points will be ignored for UniversalKriging\n",
      "n_closest_points will be ignored for UniversalKriging\n",
      "n_closest_points will be ignored for UniversalKriging\n",
      "n_closest_points will be ignored for UniversalKriging\n",
      "n_closest_points will be ignored for UniversalKriging\n",
      "n_closest_points will be ignored for UniversalKriging\n",
      "n_closest_points will be ignored for UniversalKriging\n",
      "n_closest_points will be ignored for UniversalKriging\n",
      "n_closest_points will be ignored for UniversalKriging\n",
      "n_closest_points will be ignored for UniversalKriging\n",
      "n_closest_points will be ignored for UniversalKriging\n",
      "n_closest_points will be ignored for UniversalKriging\n",
      "n_closest_points will be ignored for UniversalKriging\n",
      "n_closest_points will be ignored for UniversalKriging\n",
      "n_closest_points will be ignored for UniversalKriging\n",
      "n_closest_points will be ignored for UniversalKriging\n",
      "n_closest_points will be ignored for UniversalKriging\n",
      "n_closest_points will be ignored for UniversalKriging\n",
      "n_closest_points will be ignored for UniversalKriging\n",
      "n_closest_points will be ignored for UniversalKriging\n",
      "n_closest_points will be ignored for UniversalKriging\n",
      "n_closest_points will be ignored for UniversalKriging\n",
      "n_closest_points will be ignored for UniversalKriging\n",
      "n_closest_points will be ignored for UniversalKriging\n",
      "n_closest_points will be ignored for UniversalKriging\n",
      "n_closest_points will be ignored for UniversalKriging\n",
      "n_closest_points will be ignored for UniversalKriging\n",
      "n_closest_points will be ignored for UniversalKriging\n",
      "n_closest_points will be ignored for UniversalKriging\n",
      "n_closest_points will be ignored for UniversalKriging\n",
      "n_closest_points will be ignored for UniversalKriging\n",
      "n_closest_points will be ignored for UniversalKriging\n",
      "n_closest_points will be ignored for UniversalKriging\n",
      "n_closest_points will be ignored for UniversalKriging\n",
      "n_closest_points will be ignored for UniversalKriging\n",
      "n_closest_points will be ignored for UniversalKriging\n",
      "n_closest_points will be ignored for UniversalKriging\n",
      "n_closest_points will be ignored for UniversalKriging\n",
      "n_closest_points will be ignored for UniversalKriging\n",
      "n_closest_points will be ignored for UniversalKriging\n",
      "n_closest_points will be ignored for UniversalKriging\n",
      "n_closest_points will be ignored for UniversalKriging\n",
      "n_closest_points will be ignored for UniversalKriging\n",
      "n_closest_points will be ignored for UniversalKriging\n",
      "n_closest_points will be ignored for UniversalKriging\n",
      "n_closest_points will be ignored for UniversalKriging\n",
      "n_closest_points will be ignored for UniversalKriging\n",
      "n_closest_points will be ignored for UniversalKriging\n",
      "n_closest_points will be ignored for UniversalKriging\n",
      "n_closest_points will be ignored for UniversalKriging\n",
      "n_closest_points will be ignored for UniversalKriging\n",
      "n_closest_points will be ignored for UniversalKriging\n",
      "n_closest_points will be ignored for UniversalKriging\n",
      "n_closest_points will be ignored for UniversalKriging\n",
      "n_closest_points will be ignored for UniversalKriging\n",
      "n_closest_points will be ignored for UniversalKriging\n",
      "n_closest_points will be ignored for UniversalKriging\n",
      "n_closest_points will be ignored for UniversalKriging\n",
      "n_closest_points will be ignored for UniversalKriging\n",
      "n_closest_points will be ignored for UniversalKriging\n",
      "n_closest_points will be ignored for UniversalKriging\n",
      "n_closest_points will be ignored for UniversalKriging\n",
      "n_closest_points will be ignored for UniversalKriging\n",
      "n_closest_points will be ignored for UniversalKriging\n",
      "n_closest_points will be ignored for UniversalKriging\n",
      "n_closest_points will be ignored for UniversalKriging\n",
      "n_closest_points will be ignored for UniversalKriging\n",
      "n_closest_points will be ignored for UniversalKriging\n",
      "n_closest_points will be ignored for UniversalKriging\n",
      "n_closest_points will be ignored for UniversalKriging\n",
      "n_closest_points will be ignored for UniversalKriging\n",
      "n_closest_points will be ignored for UniversalKriging\n",
      "n_closest_points will be ignored for UniversalKriging\n",
      "n_closest_points will be ignored for UniversalKriging\n",
      "n_closest_points will be ignored for UniversalKriging\n",
      "n_closest_points will be ignored for UniversalKriging\n",
      "n_closest_points will be ignored for UniversalKriging\n",
      "n_closest_points will be ignored for UniversalKriging\n",
      "n_closest_points will be ignored for UniversalKriging\n",
      "n_closest_points will be ignored for UniversalKriging\n",
      "n_closest_points will be ignored for UniversalKriging\n",
      "n_closest_points will be ignored for UniversalKriging\n",
      "n_closest_points will be ignored for UniversalKriging\n",
      "n_closest_points will be ignored for UniversalKriging\n",
      "n_closest_points will be ignored for UniversalKriging\n",
      "n_closest_points will be ignored for UniversalKriging\n",
      "n_closest_points will be ignored for UniversalKriging\n",
      "n_closest_points will be ignored for UniversalKriging\n",
      "n_closest_points will be ignored for UniversalKriging\n",
      "n_closest_points will be ignored for UniversalKriging\n",
      "n_closest_points will be ignored for UniversalKriging\n",
      "n_closest_points will be ignored for UniversalKriging\n",
      "n_closest_points will be ignored for UniversalKriging\n",
      "n_closest_points will be ignored for UniversalKriging\n",
      "n_closest_points will be ignored for UniversalKriging\n",
      "n_closest_points will be ignored for UniversalKriging\n",
      "n_closest_points will be ignored for UniversalKriging\n",
      "n_closest_points will be ignored for UniversalKriging\n",
      "n_closest_points will be ignored for UniversalKriging\n",
      "n_closest_points will be ignored for UniversalKriging\n",
      "n_closest_points will be ignored for UniversalKriging\n",
      "n_closest_points will be ignored for UniversalKriging\n",
      "n_closest_points will be ignored for UniversalKriging\n",
      "n_closest_points will be ignored for UniversalKriging\n",
      "n_closest_points will be ignored for UniversalKriging\n",
      "n_closest_points will be ignored for UniversalKriging\n",
      "n_closest_points will be ignored for UniversalKriging\n",
      "n_closest_points will be ignored for UniversalKriging\n",
      "n_closest_points will be ignored for UniversalKriging\n",
      "n_closest_points will be ignored for UniversalKriging\n",
      "n_closest_points will be ignored for UniversalKriging\n",
      "n_closest_points will be ignored for UniversalKriging\n",
      "n_closest_points will be ignored for UniversalKriging\n",
      "n_closest_points will be ignored for UniversalKriging\n",
      "n_closest_points will be ignored for UniversalKriging\n",
      "n_closest_points will be ignored for UniversalKriging\n",
      "n_closest_points will be ignored for UniversalKriging\n",
      "n_closest_points will be ignored for UniversalKriging\n",
      "n_closest_points will be ignored for UniversalKriging\n",
      "n_closest_points will be ignored for UniversalKriging\n",
      "n_closest_points will be ignored for UniversalKriging\n",
      "n_closest_points will be ignored for UniversalKriging\n",
      "n_closest_points will be ignored for UniversalKriging\n",
      "n_closest_points will be ignored for UniversalKriging\n",
      "n_closest_points will be ignored for UniversalKriging\n",
      "n_closest_points will be ignored for UniversalKriging\n",
      "n_closest_points will be ignored for UniversalKriging\n",
      "n_closest_points will be ignored for UniversalKriging\n",
      "n_closest_points will be ignored for UniversalKriging\n",
      "n_closest_points will be ignored for UniversalKriging\n",
      "n_closest_points will be ignored for UniversalKriging\n",
      "n_closest_points will be ignored for UniversalKriging\n",
      "n_closest_points will be ignored for UniversalKriging\n",
      "n_closest_points will be ignored for UniversalKriging\n",
      "n_closest_points will be ignored for UniversalKriging\n",
      "n_closest_points will be ignored for UniversalKriging\n",
      "n_closest_points will be ignored for UniversalKriging\n",
      "n_closest_points will be ignored for UniversalKriging\n",
      "n_closest_points will be ignored for UniversalKriging\n",
      "n_closest_points will be ignored for UniversalKriging\n",
      "n_closest_points will be ignored for UniversalKriging\n",
      "n_closest_points will be ignored for UniversalKriging\n",
      "n_closest_points will be ignored for UniversalKriging\n",
      "n_closest_points will be ignored for UniversalKriging\n",
      "n_closest_points will be ignored for UniversalKriging\n",
      "n_closest_points will be ignored for UniversalKriging\n",
      "n_closest_points will be ignored for UniversalKriging\n",
      "n_closest_points will be ignored for UniversalKriging\n",
      "n_closest_points will be ignored for UniversalKriging\n",
      "n_closest_points will be ignored for UniversalKriging\n",
      "n_closest_points will be ignored for UniversalKriging\n",
      "n_closest_points will be ignored for UniversalKriging\n",
      "n_closest_points will be ignored for UniversalKriging\n",
      "n_closest_points will be ignored for UniversalKriging\n",
      "n_closest_points will be ignored for UniversalKriging\n",
      "n_closest_points will be ignored for UniversalKriging\n",
      "n_closest_points will be ignored for UniversalKriging\n",
      "n_closest_points will be ignored for UniversalKriging\n",
      "n_closest_points will be ignored for UniversalKriging\n",
      "n_closest_points will be ignored for UniversalKriging\n",
      "n_closest_points will be ignored for UniversalKriging\n",
      "n_closest_points will be ignored for UniversalKriging\n",
      "n_closest_points will be ignored for UniversalKriging\n",
      "n_closest_points will be ignored for UniversalKriging\n",
      "n_closest_points will be ignored for UniversalKriging\n",
      "n_closest_points will be ignored for UniversalKriging\n",
      "n_closest_points will be ignored for UniversalKriging\n",
      "n_closest_points will be ignored for UniversalKriging\n",
      "n_closest_points will be ignored for UniversalKriging\n",
      "n_closest_points will be ignored for UniversalKriging\n",
      "n_closest_points will be ignored for UniversalKriging\n",
      "n_closest_points will be ignored for UniversalKriging\n",
      "n_closest_points will be ignored for UniversalKriging\n",
      "n_closest_points will be ignored for UniversalKriging\n",
      "n_closest_points will be ignored for UniversalKriging\n",
      "n_closest_points will be ignored for UniversalKriging\n",
      "n_closest_points will be ignored for UniversalKriging\n",
      "n_closest_points will be ignored for UniversalKriging\n",
      "n_closest_points will be ignored for UniversalKriging\n",
      "n_closest_points will be ignored for UniversalKriging\n",
      "n_closest_points will be ignored for UniversalKriging\n",
      "n_closest_points will be ignored for UniversalKriging\n",
      "n_closest_points will be ignored for UniversalKriging\n",
      "n_closest_points will be ignored for UniversalKriging\n",
      "n_closest_points will be ignored for UniversalKriging\n",
      "n_closest_points will be ignored for UniversalKriging\n",
      "n_closest_points will be ignored for UniversalKriging\n",
      "n_closest_points will be ignored for UniversalKriging\n",
      "n_closest_points will be ignored for UniversalKriging\n",
      "n_closest_points will be ignored for UniversalKriging\n",
      "n_closest_points will be ignored for UniversalKriging\n",
      "n_closest_points will be ignored for UniversalKriging\n",
      "n_closest_points will be ignored for UniversalKriging\n",
      "n_closest_points will be ignored for UniversalKriging\n",
      "n_closest_points will be ignored for UniversalKriging\n",
      "n_closest_points will be ignored for UniversalKriging\n",
      "n_closest_points will be ignored for UniversalKriging\n",
      "n_closest_points will be ignored for UniversalKriging\n",
      "n_closest_points will be ignored for UniversalKriging\n",
      "n_closest_points will be ignored for UniversalKriging\n",
      "n_closest_points will be ignored for UniversalKriging\n",
      "n_closest_points will be ignored for UniversalKriging\n",
      "n_closest_points will be ignored for UniversalKriging\n",
      "n_closest_points will be ignored for UniversalKriging\n",
      "n_closest_points will be ignored for UniversalKriging\n",
      "n_closest_points will be ignored for UniversalKriging\n",
      "n_closest_points will be ignored for UniversalKriging\n",
      "n_closest_points will be ignored for UniversalKriging\n",
      "n_closest_points will be ignored for UniversalKriging\n",
      "n_closest_points will be ignored for UniversalKriging\n",
      "n_closest_points will be ignored for UniversalKriging\n",
      "n_closest_points will be ignored for UniversalKriging\n",
      "n_closest_points will be ignored for UniversalKriging\n",
      "n_closest_points will be ignored for UniversalKriging\n",
      "n_closest_points will be ignored for UniversalKriging\n",
      "n_closest_points will be ignored for UniversalKriging\n",
      "n_closest_points will be ignored for UniversalKriging\n",
      "n_closest_points will be ignored for UniversalKriging\n",
      "n_closest_points will be ignored for UniversalKriging\n",
      "n_closest_points will be ignored for UniversalKriging\n",
      "n_closest_points will be ignored for UniversalKriging\n",
      "n_closest_points will be ignored for UniversalKriging\n",
      "n_closest_points will be ignored for UniversalKriging\n",
      "n_closest_points will be ignored for UniversalKriging\n",
      "n_closest_points will be ignored for UniversalKriging\n",
      "n_closest_points will be ignored for UniversalKriging\n",
      "n_closest_points will be ignored for UniversalKriging\n",
      "n_closest_points will be ignored for UniversalKriging\n",
      "n_closest_points will be ignored for UniversalKriging\n",
      "n_closest_points will be ignored for UniversalKriging\n",
      "n_closest_points will be ignored for UniversalKriging\n",
      "n_closest_points will be ignored for UniversalKriging\n",
      "n_closest_points will be ignored for UniversalKriging\n",
      "n_closest_points will be ignored for UniversalKriging\n",
      "n_closest_points will be ignored for UniversalKriging\n",
      "n_closest_points will be ignored for UniversalKriging\n",
      "n_closest_points will be ignored for UniversalKriging\n",
      "n_closest_points will be ignored for UniversalKriging\n",
      "n_closest_points will be ignored for UniversalKriging\n",
      "n_closest_points will be ignored for UniversalKriging\n",
      "n_closest_points will be ignored for UniversalKriging\n",
      "n_closest_points will be ignored for UniversalKriging\n",
      "n_closest_points will be ignored for UniversalKriging\n",
      "n_closest_points will be ignored for UniversalKriging\n",
      "n_closest_points will be ignored for UniversalKriging\n",
      "n_closest_points will be ignored for UniversalKriging\n",
      "best_score R² = 0.858\n",
      "best_params =  {'method': 'ordinary', 'nlags': 6, 'variogram_model': 'gaussian', 'weight': True}\n",
      "\n",
      "CV results::\n",
      " - mean_test_score : [ 8.15557042e-01  7.90264608e-01  8.40063782e-01  8.32309916e-01\n",
      " -1.48881130e+00 -1.33135846e+00  8.44566809e-01  8.45714637e-01\n",
      "  8.42614672e-01  8.41652949e-01  8.20772858e-01  7.90264608e-01\n",
      "  8.42590800e-01  7.90264608e-01  8.58440259e-01 -1.29992535e+00\n",
      "  8.44396520e-01  8.21846785e-01  8.42763546e-01  8.41914949e-01\n",
      "  8.21034832e-01  7.90264608e-01  8.42269815e-01  8.00551995e-01\n",
      "  8.57891192e-01 -4.99582151e-01  8.44486077e-01  8.20143474e-01\n",
      "  8.42705644e-01  8.41135041e-01  7.89295541e-01 -1.54505984e-02\n",
      "  8.39706311e-01  8.16509986e-01 -8.46969881e+04 -1.11117711e+03\n",
      "  8.41315903e-01  6.94076528e-01  8.42022182e-01  8.38368507e-01\n",
      "  8.06290591e-01 -1.54505984e-02  8.45927357e-01 -1.54505913e-02\n",
      "  8.54921852e-01 -2.06237376e+03  8.40635097e-01  5.05374905e-01\n",
      "  8.42600364e-01  8.38791828e-01  8.07679223e-01 -1.54505984e-02\n",
      "  8.45269692e-01  2.70926532e-01  8.53556042e-01 -3.24141586e+01\n",
      "  8.40971932e-01  6.59469685e-01  8.42443676e-01  8.35032209e-01]\n",
      " - mean_train_score : [1.         1.         1.         1.         1.         1.\n",
      " 1.         1.         1.         1.         1.         1.\n",
      " 1.         1.         1.         1.         1.         1.\n",
      " 1.         1.         1.         1.         1.         1.\n",
      " 1.         1.         1.         1.         1.         1.\n",
      " 1.         1.         1.         1.         0.99959106 0.99999999\n",
      " 1.         1.         1.         1.         1.         1.\n",
      " 1.         1.         1.         1.         1.         1.\n",
      " 1.         1.         1.         1.         1.         1.\n",
      " 1.         1.         1.         1.         1.         1.        ]\n",
      " - param_method : ['ordinary' 'ordinary' 'ordinary' 'ordinary' 'ordinary' 'ordinary'\n",
      " 'ordinary' 'ordinary' 'ordinary' 'ordinary' 'ordinary' 'ordinary'\n",
      " 'ordinary' 'ordinary' 'ordinary' 'ordinary' 'ordinary' 'ordinary'\n",
      " 'ordinary' 'ordinary' 'ordinary' 'ordinary' 'ordinary' 'ordinary'\n",
      " 'ordinary' 'ordinary' 'ordinary' 'ordinary' 'ordinary' 'ordinary'\n",
      " 'universal' 'universal' 'universal' 'universal' 'universal' 'universal'\n",
      " 'universal' 'universal' 'universal' 'universal' 'universal' 'universal'\n",
      " 'universal' 'universal' 'universal' 'universal' 'universal' 'universal'\n",
      " 'universal' 'universal' 'universal' 'universal' 'universal' 'universal'\n",
      " 'universal' 'universal' 'universal' 'universal' 'universal' 'universal']\n",
      " - param_variogram_model : ['linear' 'linear' 'power' 'power' 'gaussian' 'gaussian' 'spherical'\n",
      " 'spherical' 'exponential' 'exponential' 'linear' 'linear' 'power' 'power'\n",
      " 'gaussian' 'gaussian' 'spherical' 'spherical' 'exponential' 'exponential'\n",
      " 'linear' 'linear' 'power' 'power' 'gaussian' 'gaussian' 'spherical'\n",
      " 'spherical' 'exponential' 'exponential' 'linear' 'linear' 'power' 'power'\n",
      " 'gaussian' 'gaussian' 'spherical' 'spherical' 'exponential' 'exponential'\n",
      " 'linear' 'linear' 'power' 'power' 'gaussian' 'gaussian' 'spherical'\n",
      " 'spherical' 'exponential' 'exponential' 'linear' 'linear' 'power' 'power'\n",
      " 'gaussian' 'gaussian' 'spherical' 'spherical' 'exponential' 'exponential']\n"
     ]
    }
   ],
   "source": [
    "from sklearn.model_selection import GridSearchCV\n",
    "from pykrige.rk import Krige\n",
    "\n",
    "param_dict = {\n",
    "    \"method\": [\"ordinary\",\"universal\"],\n",
    "    \"variogram_model\": [\"linear\", \"power\", \"gaussian\", \"spherical\", \"exponential\"],\n",
    "    \"nlags\": [4, 6, 8],\n",
    "    \"weight\": [True, False]\n",
    "}\n",
    "\n",
    "estimator = GridSearchCV(Krige(), param_dict, verbose=True, return_train_score=True)\n",
    "\n",
    "# Extracting the feature matrix X\n",
    "X = X_train[['Latitude', 'Longitude']].values\n",
    "\n",
    "# Extracting the target variable y\n",
    "y = y_train['Tave_wt'].values\n",
    "\n",
    "# run the gridsearch\n",
    "estimator.fit(X, y)\n",
    "\n",
    "if hasattr(estimator, \"best_score_\"):\n",
    "    print(\"best_score R² = {:.3f}\".format(estimator.best_score_))\n",
    "    print(\"best_params = \", estimator.best_params_)\n",
    "\n",
    "print(\"\\nCV results::\")\n",
    "if hasattr(estimator, \"cv_results_\"):\n",
    "    for key in [\n",
    "        \"mean_test_score\",\n",
    "        \"mean_train_score\",\n",
    "        \"param_method\",\n",
    "        \"param_variogram_model\",\n",
    "    ]:\n",
    "        print(\" - {} : {}\".format(key, estimator.cv_results_[key]))\n"
   ]
  },
  {
   "cell_type": "code",
   "execution_count": 73,
   "id": "50b3f343",
   "metadata": {},
   "outputs": [
    {
     "name": "stdout",
     "output_type": "stream",
     "text": [
      "GridSearchCV(estimator=Krige(),\n",
      "             param_grid={'method': ['ordinary', 'universal'],\n",
      "                         'nlags': [4, 6, 8],\n",
      "                         'variogram_model': ['linear', 'power', 'gaussian',\n",
      "                                             'spherical', 'exponential'],\n",
      "                         'weight': [True, False]},\n",
      "             return_train_score=True, verbose=True)\n"
     ]
    }
   ],
   "source": [
    "print(estimator)"
   ]
  },
  {
   "cell_type": "markdown",
   "id": "33086739-3032-4fbf-a3f7-2ea59b134b38",
   "metadata": {},
   "source": [
    "**Our results are the following**:\n",
    "- best_score R² = 0.858\n",
    "- best_params =  {'method': 'ordinary', 'nlags': 6, 'variogram_model': 'gaussian', 'weight': True}"
   ]
  },
  {
   "cell_type": "markdown",
   "id": "412739ce-86b0-4d77-ae54-6fceb7eeaa46",
   "metadata": {},
   "source": [
    "Now that we have the best parameters, we will plug these into our Kriging model. "
   ]
  },
  {
   "cell_type": "code",
   "execution_count": 74,
   "id": "86d74b79-0a4d-4478-9028-553aa20add06",
   "metadata": {},
   "outputs": [
    {
     "name": "stdout",
     "output_type": "stream",
     "text": [
      "Krige(variogram_model='gaussian', weight=True)\n",
      "0.8584402592785884\n"
     ]
    }
   ],
   "source": [
    "best_model = estimator.best_estimator_\n",
    "best_score = estimator.best_score_\n",
    "print(best_model)\n",
    "print(best_score)"
   ]
  },
  {
   "cell_type": "code",
   "execution_count": 75,
   "id": "b7efbd5b-05d4-47ab-861d-9da1a2ac98a2",
   "metadata": {},
   "outputs": [],
   "source": [
    "from pykrige.ok import OrdinaryKriging"
   ]
  },
  {
   "cell_type": "code",
   "execution_count": 76,
   "id": "0d3cb11b-3f11-450f-ab13-6bb97a693fb5",
   "metadata": {},
   "outputs": [],
   "source": [
    "resolution = 0.5  # cell size in meters, smaller cell size = smaller pixel = higher resolution \n",
    "gridx = np.arange(X_train.Latitude.min(), X_train.Latitude.max(), resolution)\n",
    "gridy = np.arange(X_train.Longitude.min(), X_train.Longitude.max(), resolution)"
   ]
  },
  {
   "cell_type": "code",
   "execution_count": 77,
   "id": "b81e738a-cf10-4a51-8328-039727289362",
   "metadata": {},
   "outputs": [
    {
     "name": "stdout",
     "output_type": "stream",
     "text": [
      "Plotting Enabled\n",
      "\n",
      "Adjusting data for anisotropy...\n",
      "Initializing variogram model...\n",
      "Coordinates type: 'euclidean' \n",
      "\n",
      "Using 'gaussian' Variogram Model\n",
      "Partial Sill: 31.79197152695864\n",
      "Full Sill: 37.684866283161426\n",
      "Range: 8.163490944825432\n",
      "Nugget: 5.892894756202786 \n",
      "\n"
     ]
    },
    {
     "data": {
      "image/png": "[encoded data removed]",
      "text/plain": [
       "<Figure size 432x288 with 1 Axes>"
      ]
     },
     "metadata": {
      "needs_background": "light"
     },
     "output_type": "display_data"
    },
    {
     "name": "stdout",
     "output_type": "stream",
     "text": [
      "Calculating statistics on variogram model fit...\n",
      "Executing Ordinary Kriging...\n",
      "\n"
     ]
    }
   ],
   "source": [
    "OK = OrdinaryKriging(\n",
    "    X_train['Latitude'],\n",
    "    X_train['Longitude'],\n",
    "    y_train['Tave_wt'],\n",
    "    variogram_model= \"gaussian\",# \"spherical\" \"linear\" \"gaussian\" \"power\" \"exponential\"\n",
    "    verbose=True,\n",
    "    nlags=6,\n",
    "    weight=True,\n",
    "    enable_plotting=True\n",
    ")\n",
    "\n",
    "z, ss = OK.execute(\"grid\", gridx, gridy)"
   ]
  },
  {
   "cell_type": "markdown",
   "id": "81eff7b2-5acb-409a-9269-72bb52333a27",
   "metadata": {},
   "source": [
    "**Now let's make predictions on the test set.**"
   ]
  },
  {
   "cell_type": "code",
   "execution_count": 78,
   "id": "057eded4-8cc6-41b9-920f-f5ff5f03fe18",
   "metadata": {},
   "outputs": [
    {
     "name": "stdout",
     "output_type": "stream",
     "text": [
      "Executing Ordinary Kriging...\n",
      "\n"
     ]
    }
   ],
   "source": [
    "#define the coordinates of the locations in the test set \n",
    "latitude_pred = X_test['Latitude'].values\n",
    "longitude_pred = X_test['Longitude'].values\n",
    "\n",
    "#Use the fitted Kriging model to make predictions at the specified locations in the test set\n",
    "z_pred, ss_pred = OK.execute('points', latitude_pred, longitude_pred)\n",
    "\n",
    "#Store our predicted values\n",
    "predicted_values = np.array(z_pred)"
   ]
  },
  {
   "cell_type": "markdown",
   "id": "62c4b2ca-98aa-41f9-b9a9-4699afdd9337",
   "metadata": {},
   "source": [
    "**Let's take a look at what our Ordinary Kriging model predicted.**"
   ]
  },
  {
   "cell_type": "code",
   "execution_count": 79,
   "id": "08458c6b-df4b-45ef-bfc2-b87b44c47731",
   "metadata": {},
   "outputs": [
    {
     "data": {
      "text/plain": [
       "array([ -9.57844929,  -9.36586423, -13.68249217,  -3.72609023,\n",
       "        -6.79319436,  -1.41236397,  -4.80115686, -10.91075952,\n",
       "        -1.64007546,  -8.56997059, -13.32334373,  -2.88222346,\n",
       "        -7.64372784, -13.56989302, -11.15799709,  -1.32636643,\n",
       "        -8.10881741,  -6.17569303, -10.33533883,  -4.65194447,\n",
       "        -0.47104622,  -6.64942378,   3.0124889 ,  -6.55828584,\n",
       "        -8.21329561,  -3.34159431,  -6.32624749,  -7.41379939,\n",
       "        -4.35914826, -12.47607344,  -2.65163526,  -8.21806377,\n",
       "       -10.32475742,  -0.60151491,  -7.90270333,  -3.38725364,\n",
       "       -11.63750717, -15.80429557])"
      ]
     },
     "execution_count": 79,
     "metadata": {},
     "output_type": "execute_result"
    }
   ],
   "source": [
    "predicted_values"
   ]
  },
  {
   "cell_type": "markdown",
   "id": "aff245ab-bed6-4a4d-b163-2800f53f5fd5",
   "metadata": {},
   "source": [
    "**What were our actual values?**"
   ]
  },
  {
   "cell_type": "code",
   "execution_count": 80,
   "id": "d2a9cd2e-a685-42ea-a538-000271e08dc3",
   "metadata": {},
   "outputs": [
    {
     "data": {
      "text/plain": [
       "array([ -9.6, -10.4, -11.5,  -2.7,  -4.8,  -1.1,  -3.4, -10.4,  -1.1,\n",
       "        -8.8, -15.2,  -5.7,  -8.3, -10.3, -10.5,  -3.7,  -8.6,  -6.5,\n",
       "       -11.3,  -5.5,   0. ,  -9.9,   3.5,  -5.5,  -7.6,  -5.2,  -7.6,\n",
       "        -7.9,  -5.6, -11.7,  -5. , -10. ,  -8.5,  -1.5,  -7.2,  -3.9,\n",
       "       -10. , -15.1])"
      ]
     },
     "execution_count": 80,
     "metadata": {},
     "output_type": "execute_result"
    }
   ],
   "source": [
    "actual_values = y_test['Tave_wt'].values\n",
    "actual_values"
   ]
  },
  {
   "cell_type": "markdown",
   "id": "eca903f7-edbb-4bbd-8c53-4ada762b6a58",
   "metadata": {},
   "source": [
    "**Next we calculate error**"
   ]
  },
  {
   "cell_type": "code",
   "execution_count": 81,
   "id": "7248b2c3-5e6e-4f77-a3f6-7e43a5f82f02",
   "metadata": {},
   "outputs": [
    {
     "name": "stdout",
     "output_type": "stream",
     "text": [
      "Mean Squared Error: 2.1292299763019513\n"
     ]
    }
   ],
   "source": [
    "from sklearn.metrics import mean_squared_error, mean_absolute_error\n",
    "#calculate error metrics to evaluate the accuracy of the predictions\n",
    "mse = mean_squared_error(actual_values, predicted_values)\n",
    "print(\"Mean Squared Error:\", mse)"
   ]
  },
  {
   "cell_type": "code",
   "execution_count": 82,
   "id": "c7a46653-3a05-4a88-8af0-d439f31f2ee3",
   "metadata": {},
   "outputs": [
    {
     "name": "stdout",
     "output_type": "stream",
     "text": [
      "Root Mean Squared Error: 1.4591881223138952\n"
     ]
    }
   ],
   "source": [
    "#calculate error metrics to evaluate the accuracy of the predictions\n",
    "rmse = mean_squared_error(actual_values, predicted_values, squared = False)\n",
    "print(\"Root Mean Squared Error:\", rmse)"
   ]
  },
  {
   "cell_type": "code",
   "execution_count": 83,
   "id": "73a44f1a-05ec-45a9-88c7-e3f0dade5a6c",
   "metadata": {},
   "outputs": [
    {
     "name": "stdout",
     "output_type": "stream",
     "text": [
      "Mean Absolute Error: 1.1962915334036288\n"
     ]
    }
   ],
   "source": [
    "mae = mean_absolute_error(actual_values, predicted_values)\n",
    "print(\"Mean Absolute Error:\", mae)"
   ]
  },
  {
   "cell_type": "markdown",
   "id": "7d318c56-2f4d-4a39-bd6b-61a15f74331f",
   "metadata": {},
   "source": [
    "**Let's plot our predicted against our true values.**"
   ]
  },
  {
   "cell_type": "code",
   "execution_count": 84,
   "id": "de5b098a-b709-453d-83e0-56a338d95752",
   "metadata": {},
   "outputs": [],
   "source": [
    "import matplotlib.pyplot as plt"
   ]
  },
  {
   "cell_type": "code",
   "execution_count": 85,
   "id": "b6fe7675-333b-448b-8b7e-819f59acad50",
   "metadata": {},
   "outputs": [],
   "source": [
    "from scipy.interpolate import griddata\n",
    "\n",
    "# Define a grid for the test data\n",
    "gridx_test = np.arange(X_test['Latitude'].min(), X_test['Latitude'].max() + resolution, resolution)\n",
    "gridy_test = np.arange(X_test['Longitude'].min(), X_test['Longitude'].max() + resolution, resolution)\n",
    "gridx_test, gridy_test = np.meshgrid(gridx_test, gridy_test)\n",
    "\n",
    "# Interpolate the predicted values onto the grid\n",
    "points = np.vstack((X_test['Latitude'], X_test['Longitude'])).T\n",
    "z_pred_interpolated = griddata(points, predicted_values, (gridx_test, gridy_test), method='cubic')"
   ]
  },
  {
   "cell_type": "code",
   "execution_count": 86,
   "id": "b0f6ac2d-2fb5-4218-b8ce-e66763b00165",
   "metadata": {},
   "outputs": [
    {
     "data": {
      "image/png": "[encoded data removed]",
      "text/plain": [
       "<Figure size 576x432 with 2 Axes>"
      ]
     },
     "metadata": {
      "needs_background": "light"
     },
     "output_type": "display_data"
    }
   ],
   "source": [
    "#Plot true values\n",
    "\n",
    "plt.figure(figsize=(8, 6))\n",
    "\n",
    "plt.scatter(X_test['Longitude'], X_test['Latitude'], c=actual_values, cmap='viridis', \n",
    "            label='True Values', marker='o', edgecolors='k', s=50)\n",
    "\n",
    "#Plot predicted values as a contour layer\n",
    "contour = plt.contourf(gridy_test, gridx_test, z_pred_interpolated, cmap='viridis', levels=100, alpha=0.7, antialiased=True)\n",
    "\n",
    "# Set the starting index for the x and y axes\n",
    "plt.xlim(min(X_test['Longitude']) - 1, max(X_test['Longitude']) + 1)    # Adjust the range as needed for your data\n",
    "plt.ylim(min(X_test['Latitude']) - 1, max(X_test['Latitude']) + 1)      # Adjust the range as needed for your data\n",
    "\n",
    "#Add colour bar\n",
    "cbar = plt.colorbar(contour, label='Predicted Values')\n",
    "\n",
    "#Add labels and legend\n",
    "plt.xlabel('X Coordinates (Longitude)')\n",
    "plt.ylabel('Y Coordinates (Latitude)')\n",
    "plt.legend()\n",
    "plt.title('Predicted Against True Temperature Values (C)')\n",
    "\n",
    "#Show the plot\n",
    "plt.show()"
   ]
  },
  {
   "cell_type": "markdown",
   "id": "8763906f-0982-4b50-bfcf-6a3a1083f562",
   "metadata": {},
   "source": [
    "From the graph, we can conclude that our predicted values (in the contour layer) align closely with the true values. "
   ]
  }
 ],
 "metadata": {
  "kernelspec": {
   "display_name": "Python 3 (ipykernel)",
   "language": "python",
   "name": "python3"
  },
  "language_info": {
   "codemirror_mode": {
    "name": "ipython",
    "version": 3
   },
   "file_extension": ".py",
   "mimetype": "text/x-python",
   "name": "python",
   "nbconvert_exporter": "python",
   "pygments_lexer": "ipython3",
   "version": "3.9.7"
  }
 },
 "nbformat": 4,
 "nbformat_minor": 5
}
