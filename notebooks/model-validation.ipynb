{
 "cells": [
  {
   "cell_type": "markdown",
   "metadata": {},
   "source": [
    "# Cross-Validation"
   ]
  },
  {
   "cell_type": "code",
   "execution_count": 1,
   "metadata": {},
   "outputs": [
    {
     "name": "stdout",
     "output_type": "stream",
     "text": [
      "Requirement already satisfied: pandas in /Users/ashleyshu/opt/anaconda3/lib/python3.8/site-packages (1.2.4)\n",
      "Requirement already satisfied: numpy in /Users/ashleyshu/opt/anaconda3/lib/python3.8/site-packages (1.20.1)\n",
      "Collecting pykrige\n",
      "  Downloading PyKrige-1.7.0-cp38-cp38-macosx_10_9_x86_64.whl (207 kB)\n",
      "\u001b[K     |████████████████████████████████| 207 kB 3.0 MB/s eta 0:00:01\n",
      "\u001b[?25hCollecting plotly\n",
      "  Using cached plotly-5.17.0-py2.py3-none-any.whl (15.6 MB)\n",
      "Requirement already satisfied: python-dateutil>=2.7.3 in /Users/ashleyshu/opt/anaconda3/lib/python3.8/site-packages (from pandas) (2.8.1)\n",
      "Requirement already satisfied: pytz>=2017.3 in /Users/ashleyshu/opt/anaconda3/lib/python3.8/site-packages (from pandas) (2021.1)\n",
      "Requirement already satisfied: six>=1.5 in /Users/ashleyshu/opt/anaconda3/lib/python3.8/site-packages (from python-dateutil>=2.7.3->pandas) (1.15.0)\n",
      "Collecting tenacity>=6.2.0\n",
      "  Using cached tenacity-8.2.3-py3-none-any.whl (24 kB)\n",
      "Requirement already satisfied: packaging in /Users/ashleyshu/opt/anaconda3/lib/python3.8/site-packages (from plotly) (20.9)\n",
      "Requirement already satisfied: scipy<2,>=1.1.0 in /Users/ashleyshu/opt/anaconda3/lib/python3.8/site-packages (from pykrige) (1.6.2)\n",
      "Requirement already satisfied: pyparsing>=2.0.2 in /Users/ashleyshu/opt/anaconda3/lib/python3.8/site-packages (from packaging->plotly) (2.4.7)\n",
      "Installing collected packages: tenacity, pykrige, plotly\n",
      "Successfully installed plotly-5.17.0 pykrige-1.7.0 tenacity-8.2.3\n",
      "Note: you may need to restart the kernel to use updated packages.\n"
     ]
    }
   ],
   "source": [
    "pip install pandas numpy pykrige plotly"
   ]
  },
  {
   "cell_type": "code",
   "execution_count": 2,
   "metadata": {},
   "outputs": [],
   "source": [
    "import pandas as pd\n",
    "from ftplib import FTP\n",
    "from io import BytesIO\n",
    "from pykrige.ok import OrdinaryKriging\n",
    "import numpy as np\n",
    "import plotly.graph_objects as go\n"
   ]
  },
  {
   "cell_type": "code",
   "execution_count": 3,
   "metadata": {},
   "outputs": [
    {
     "name": "stdout",
     "output_type": "stream",
     "text": [
      "Collecting rasterio\n",
      "  Downloading rasterio-1.3.8-cp38-cp38-macosx_10_15_x86_64.whl (22.8 MB)\n",
      "\u001b[K     |████████████████████████████████| 22.8 MB 6.7 MB/s eta 0:00:01\n",
      "\u001b[?25hCollecting snuggs>=1.4.1\n",
      "  Downloading snuggs-1.4.7-py3-none-any.whl (5.4 kB)\n",
      "Requirement already satisfied: numpy>=1.18 in /Users/ashleyshu/opt/anaconda3/lib/python3.8/site-packages (from rasterio) (1.20.1)\n",
      "Requirement already satisfied: certifi in /Users/ashleyshu/opt/anaconda3/lib/python3.8/site-packages (from rasterio) (2020.12.5)\n",
      "Collecting click-plugins\n",
      "  Downloading click_plugins-1.1.1-py2.py3-none-any.whl (7.5 kB)\n",
      "Requirement already satisfied: attrs in /Users/ashleyshu/opt/anaconda3/lib/python3.8/site-packages (from rasterio) (23.1.0)\n",
      "Requirement already satisfied: click>=4.0 in /Users/ashleyshu/opt/anaconda3/lib/python3.8/site-packages (from rasterio) (7.1.2)\n",
      "Requirement already satisfied: setuptools in /Users/ashleyshu/opt/anaconda3/lib/python3.8/site-packages (from rasterio) (52.0.0.post20210125)\n",
      "Collecting affine\n",
      "  Downloading affine-2.4.0-py3-none-any.whl (15 kB)\n",
      "Collecting cligj>=0.5\n",
      "  Downloading cligj-0.7.2-py3-none-any.whl (7.1 kB)\n",
      "Requirement already satisfied: pyparsing>=2.1.6 in /Users/ashleyshu/opt/anaconda3/lib/python3.8/site-packages (from snuggs>=1.4.1->rasterio) (2.4.7)\n",
      "Installing collected packages: snuggs, cligj, click-plugins, affine, rasterio\n",
      "Successfully installed affine-2.4.0 click-plugins-1.1.1 cligj-0.7.2 rasterio-1.3.8 snuggs-1.4.7\n",
      "Note: you may need to restart the kernel to use updated packages.\n"
     ]
    }
   ],
   "source": [
    "pip install rasterio"
   ]
  },
  {
   "cell_type": "code",
   "execution_count": 5,
   "metadata": {},
   "outputs": [],
   "source": [
    "import rasterio\n",
    "with rasterio.open('../data/2011-2020-idw.tif') as src:kriged_values = src.read(1)"
   ]
  },
  {
   "cell_type": "code",
   "execution_count": 12,
   "metadata": {},
   "outputs": [
    {
     "name": "stdout",
     "output_type": "stream",
     "text": [
      "(43, 89)\n"
     ]
    },
    {
     "data": {
      "text/plain": [
       "array([[-9.9990000e+03, -9.9990000e+03, -9.9990000e+03, ...,\n",
       "        -9.9990000e+03, -9.9990000e+03, -9.9990000e+03],\n",
       "       [-9.9990000e+03, -9.9990000e+03, -9.9990000e+03, ...,\n",
       "        -9.9990000e+03, -9.9990000e+03, -9.9990000e+03],\n",
       "       [-9.9990000e+03, -2.5428038e+00, -3.5269425e+00, ...,\n",
       "        -9.9990000e+03, -9.9990000e+03, -9.9990000e+03],\n",
       "       ...,\n",
       "       [-9.9990000e+03, -9.9990000e+03, -9.9990000e+03, ...,\n",
       "        -9.9990000e+03, -9.9990000e+03, -9.9990000e+03],\n",
       "       [-9.9990000e+03, -9.9990000e+03, -9.9990000e+03, ...,\n",
       "        -9.9990000e+03, -9.9990000e+03, -9.9990000e+03],\n",
       "       [-9.9990000e+03, -9.9990000e+03, -9.9990000e+03, ...,\n",
       "        -9.9990000e+03, -9.9990000e+03, -9.9990000e+03]])"
      ]
     },
     "execution_count": 12,
     "metadata": {},
     "output_type": "execute_result"
    }
   ],
   "source": [
    "print(kriged_values.shape)\n",
    "kriged_values"
   ]
  },
  {
   "cell_type": "markdown",
   "metadata": {},
   "source": [
    "### Get the csv mapping coordinates to temp"
   ]
  },
  {
   "cell_type": "code",
   "execution_count": 25,
   "metadata": {},
   "outputs": [
    {
     "name": "stdout",
     "output_type": "stream",
     "text": [
      "Data has been written to coordinateTemps.csv\n"
     ]
    }
   ],
   "source": [
    "import csv\n",
    "\n",
    "def write_matrix_to_csv(matrix, output_csv):\n",
    "    # Get the dimensions of the matrix\n",
    "    rows = len(matrix)\n",
    "    cols = len(matrix[0])\n",
    "\n",
    "    # Open the CSV file in write mode\n",
    "    with open(output_csv, mode='w', newline='') as file:\n",
    "        # Create a CSV writer object\n",
    "        csv_writer = csv.writer(file)\n",
    "        \n",
    "        # Write the header row\n",
    "        csv_writer.writerow(['row', 'col', 'temp'])\n",
    "        \n",
    "        # Write the data to the CSV file\n",
    "        for row in range(rows):\n",
    "            for col in range(cols):\n",
    "                temperature = matrix[row][col]\n",
    "                csv_writer.writerow([float(row), float(col), temperature])\n",
    "\n",
    "# Specify the output CSV file name\n",
    "output_csv = 'coordinateTemps.csv'\n",
    "\n",
    "# Call the function to write the matrix to the CSV file\n",
    "write_matrix_to_csv(kriged_values, output_csv)\n",
    "\n",
    "print(f'Data has been written to {output_csv}')\n"
   ]
  },
  {
   "cell_type": "markdown",
   "metadata": {},
   "source": [
    "### Get the csv to display/visualize the kriged_values"
   ]
  },
  {
   "cell_type": "code",
   "execution_count": 14,
   "metadata": {},
   "outputs": [
    {
     "name": "stdout",
     "output_type": "stream",
     "text": [
      "Data has been written to kriged_array_data.csv\n"
     ]
    }
   ],
   "source": [
    "import csv\n",
    "\n",
    "data = kriged_values\n",
    "csv_file = 'kriged_array_data.csv'\n",
    "\n",
    "# Open the CSV file in write mode\n",
    "with open(csv_file, mode='w', newline='') as file:\n",
    "    # Create a CSV writer object\n",
    "    csv_writer = csv.writer(file)\n",
    "    \n",
    "    # Write the data to the CSV file row by row\n",
    "    for row in data:\n",
    "        csv_writer.writerow(row)\n",
    "\n",
    "print(f'Data has been written to {csv_file}')"
   ]
  },
  {
   "cell_type": "code",
   "execution_count": 8,
   "metadata": {},
   "outputs": [
    {
     "name": "stdout",
     "output_type": "stream",
     "text": [
      "Requirement already satisfied: scikit-learn in /Users/ashleyshu/opt/anaconda3/lib/python3.8/site-packages (0.24.1)\n",
      "Requirement already satisfied: numpy>=1.13.3 in /Users/ashleyshu/opt/anaconda3/lib/python3.8/site-packages (from scikit-learn) (1.20.1)\n",
      "Requirement already satisfied: scipy>=0.19.1 in /Users/ashleyshu/opt/anaconda3/lib/python3.8/site-packages (from scikit-learn) (1.6.2)\n",
      "Requirement already satisfied: threadpoolctl>=2.0.0 in /Users/ashleyshu/opt/anaconda3/lib/python3.8/site-packages (from scikit-learn) (2.1.0)\n",
      "Requirement already satisfied: joblib>=0.11 in /Users/ashleyshu/opt/anaconda3/lib/python3.8/site-packages (from scikit-learn) (1.0.1)\n",
      "Note: you may need to restart the kernel to use updated packages.\n"
     ]
    }
   ],
   "source": [
    "pip install scikit-learn"
   ]
  },
  {
   "cell_type": "code",
   "execution_count": 26,
   "metadata": {},
   "outputs": [
    {
     "name": "stdout",
     "output_type": "stream",
     "text": [
      "Fitting 5 folds for each of 60 candidates, totalling 300 fits\n",
      "n_closest_points will be ignored for UniversalKriging\n",
      "n_closest_points will be ignored for UniversalKriging\n",
      "n_closest_points will be ignored for UniversalKriging\n",
      "n_closest_points will be ignored for UniversalKriging\n",
      "n_closest_points will be ignored for UniversalKriging\n",
      "n_closest_points will be ignored for UniversalKriging\n",
      "n_closest_points will be ignored for UniversalKriging\n",
      "n_closest_points will be ignored for UniversalKriging\n",
      "n_closest_points will be ignored for UniversalKriging\n",
      "n_closest_points will be ignored for UniversalKriging\n",
      "n_closest_points will be ignored for UniversalKriging\n",
      "n_closest_points will be ignored for UniversalKriging\n",
      "n_closest_points will be ignored for UniversalKriging\n",
      "n_closest_points will be ignored for UniversalKriging\n",
      "n_closest_points will be ignored for UniversalKriging\n",
      "n_closest_points will be ignored for UniversalKriging\n",
      "n_closest_points will be ignored for UniversalKriging\n",
      "n_closest_points will be ignored for UniversalKriging\n",
      "n_closest_points will be ignored for UniversalKriging\n",
      "n_closest_points will be ignored for UniversalKriging\n"
     ]
    }
   ],
   "source": [
    "from sklearn.model_selection import GridSearchCV\n",
    "from pykrige.rk import Krige\n",
    "\n",
    "param_dict = {\n",
    "    \"method\": [\"ordinary\", \"universal\"],\n",
    "    \"variogram_model\": [\"linear\", \"power\", \"gaussian\", \"spherical\", \"exponential\"],\n",
    "    \"nlags\": [4, 6, 8],\n",
    "    \"weight\": [True, False]\n",
    "}\n",
    "\n",
    "estimator = GridSearchCV(Krige(), param_dict, verbose=True, return_train_score=True)\n",
    "\n",
    "# Assuming df is your DataFrame\n",
    "df = pd.read_csv('coordinateTemps.csv')\n",
    "\n",
    "# Extracting the feature matrix X\n",
    "X = df[['row', 'col']].values\n",
    "\n",
    "# Extracting the target variable y\n",
    "y = df['temp'].values\n",
    "\n",
    "# run the gridsearch\n",
    "estimator.fit(X, y)\n",
    "\n",
    "if hasattr(estimator, \"best_score_\"):\n",
    "    print(\"best_score R² = {:.3f}\".format(estimator.best_score_))\n",
    "    print(\"best_params = \", estimator.best_params_)\n",
    "\n",
    "print(\"\\nCV results::\")\n",
    "if hasattr(estimator, \"cv_results_\"):\n",
    "    for key in [\n",
    "        \"mean_test_score\",\n",
    "        \"mean_train_score\",\n",
    "        \"param_method\",\n",
    "        \"param_variogram_model\",\n",
    "    ]:\n",
    "        print(\" - {} : {}\".format(key, estimator.cv_results_[key]))"
   ]
  },
  {
   "cell_type": "code",
   "execution_count": null,
   "metadata": {},
   "outputs": [],
   "source": [
    "from sklearn.model_selection import GridSearchCV\n",
    "from pykrige.rk import Krige\n",
    "\n",
    "param_dict = {\n",
    "    \"method\": [\"ordinary\"],\n",
    "    \"variogram_model\": [\"gaussian\", \"exponential\"],\n",
    "    # \"variogram_model\": [\"linear\", \"power\", \"gaussian\", \"spherical\", \"exponential\"],\n",
    "    \"nlags\": [4, 6, 8],\n",
    "    \"weight\": [True, False]\n",
    "}\n",
    "\n",
    "estimator = GridSearchCV(Krige(), param_dict, verbose=True, return_train_score=True)\n",
    "\n",
    "# Assuming df is your DataFrame\n",
    "df = pd.read_csv('coordinateTemps.csv')\n",
    "\n",
    "# Extracting the feature matrix X\n",
    "X = df[['row', 'col']].values\n",
    "\n",
    "# Extracting the target variable y\n",
    "y = df['temp'].values\n",
    "\n",
    "# run the gridsearch\n",
    "estimator.fit(X, y)\n",
    "\n",
    "if hasattr(estimator, \"best_score_\"):\n",
    "    print(\"best_score R² = {:.3f}\".format(estimator.best_score_))\n",
    "    print(\"best_params = \", estimator.best_params_)\n",
    "\n",
    "print(\"\\nCV results::\")\n",
    "if hasattr(estimator, \"cv_results_\"):\n",
    "    for key in [\n",
    "        \"mean_test_score\",\n",
    "        \"mean_train_score\",\n",
    "        \"param_method\",\n",
    "        \"param_variogram_model\",\n",
    "    ]:\n",
    "        print(\" - {} : {}\".format(key, estimator.cv_results_[key]))"
   ]
  }
 ],
 "metadata": {
  "kernelspec": {
   "display_name": "Python 3",
   "language": "python",
   "name": "python3"
  },
  "language_info": {
   "codemirror_mode": {
    "name": "ipython",
    "version": 3
   },
   "file_extension": ".py",
   "mimetype": "text/x-python",
   "name": "python",
   "nbconvert_exporter": "python",
   "pygments_lexer": "ipython3",
   "version": "3.8.8"
  },
  "orig_nbformat": 4
 },
 "nbformat": 4,
 "nbformat_minor": 2
}
